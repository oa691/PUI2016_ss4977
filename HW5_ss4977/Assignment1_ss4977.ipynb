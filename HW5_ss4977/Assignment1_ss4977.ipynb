{
 "cells": [
  {
   "cell_type": "markdown",
   "metadata": {},
   "source": [
    "## Null hypothesis\n",
    "\n",
    "The ages of citibike riders are distributed normally.\n",
    "\n",
    "## Alternative hypothesis\n",
    "\n",
    "The ages of citibike riders follow some other distribution.\n",
    "\n",
    "## Secondary null hypothesis\n",
    "\n",
    "The ages of citibike riders follow a Poisson distribution"
   ]
  },
  {
   "cell_type": "code",
   "execution_count": 2,
   "metadata": {
    "collapsed": false
   },
   "outputs": [
    {
     "name": "stdout",
     "output_type": "stream",
     "text": [
      "Populating the interactive namespace from numpy and matplotlib\n"
     ]
    }
   ],
   "source": [
    "from __future__ import print_function\n",
    "import os\n",
    "import numpy as np\n",
    "import scipy.stats as sps\n",
    "import pylab as pl\n",
    "%pylab inline\n",
    "import pandas as pd\n",
    "import scipy.stats as sps\n",
    "import statsmodels.api as sm\n",
    "import statsmodels.formula.api as smf"
   ]
  },
  {
   "cell_type": "code",
   "execution_count": 3,
   "metadata": {
    "collapsed": true
   },
   "outputs": [],
   "source": [
    "# First import the dataset, remove extraneous fields, and remove lines for non-subscribers that\n",
    "# lack birth year\n",
    "\n",
    "def getBikeDataCSV(mon):\n",
    "    # Based loosely on Federica's code\n",
    "    basename = mon + \"-citibike-tripdata\"\n",
    "    zipname = basename + \".zip\"\n",
    "    os.chdir(puidata) # Now all file operations without an absolute path will take place in puidata\n",
    "    fullfile = puidata + \"/\" + zipname\n",
    "    # Check if the file is present\n",
    "    print(\"Checking presence of \" + zipname)\n",
    "    print(os.getenv(\"PWD\"))\n",
    "    if os.path.isfile(puidata + \"/\" + basename + \".csv\"):\n",
    "        print(\"Already have the file\")\n",
    "        return\n",
    "    if os.path.isfile(basename + \".csv\"):\n",
    "        print(\"Found file \" + basename + \".csv\")\n",
    "        if os.path.isfile(mon + \"-citibike-tripdata.csv\"):\n",
    "            if os.system(\"mv \" + mon + \"-citibike-tripdata.csv \" + puidata):\n",
    "                print(\"Could not move file to \" + puidata)\n",
    "                return\n",
    "    else:\n",
    "        print(\"Downloading file \" + zipname)\n",
    "        if not os.path.isfile(fullfile):\n",
    "            os.system(\"curl -O \" + sitename + \"/\" + zipname)\n",
    "            if os.path.isfile(fullfile):\n",
    "                print(\"Got \" + zipname + \"\\n\")\n",
    "                os.system(\"unzip -q \" + fullfile)\n",
    "            else:\n",
    "                print(\"Failed\\n\")\n",
    "                return\n",
    "            \n",
    "def in_rect(ptlat, ptlon, contour):\n",
    "    # ptlat - scalar latitude of the coordinate being tested\n",
    "    # ptlon - scalar longitude of the coordinate being tested\n",
    "    # contour - tuple of coordinates bounding polygon\n",
    "    # First look for two pairs of points in contour where\n",
    "    # which ptlat is between\n",
    "    bet_segs = []\n",
    "    eq_pt = []\n",
    "    try:\n",
    "        for corner in range(0, len(contour)):\n",
    "            if between(ptlat, contour[corner][0], contour[(corner + 1) % len(contour)][0]):\n",
    "                bet_segs.append(corner)\n",
    "            elif ptlat == contour[corner][0]:\n",
    "                eq_pt.append(corner)\n",
    "    except ValueError:\n",
    "        return False\n",
    "    # If there were no segments, return False\n",
    "    if len(bet_segs) <= 1 and len(eq_pt) == 0:\n",
    "        return False\n",
    "    # If there is one equal to a vertex and none inside segment,\n",
    "    # return whether it is on the vertex\n",
    "    if len(eq_pt) == 1 and len(bet_segs) == 0:\n",
    "        return ptlon == contour[eq_pt[0]][1]\n",
    "    # If there are two equal to a vertex and none inside segment,\n",
    "    # return whether it is on the line connecting those vertices, including ends\n",
    "    if len(eq_pt) == 2 and len(bet_segs) == 0:\n",
    "        return between(ptlon, contour[eq_pt[0]][1], contour[eq_pt[1]][1]\n",
    "                      ) or ptlon == contour[eq_pt[0]][1] or ptlon == contour[eq_pt[1]][1]\n",
    "    # If there are two or more segments, find the longitude-intercepts\n",
    "    # for each of those segments with the latitude and return whether or\n",
    "    # not the point is on a longitude in between\n",
    "    if len(bet_segs) >= 2:\n",
    "        xint_list = []\n",
    "        # Find the longitude on each segment in the list intersecting the latitude\n",
    "        for ver in bet_segs:\n",
    "            xint = x_intercept(ptlat, ptlon, (contour[ver], contour[(ver+1) % len(contour)]))\n",
    "            xint_list.append(xint)\n",
    "        lessthan_lon = 0\n",
    "        # If the number of segments with an x-intercept greater than the points x-coordinate\n",
    "        # is odd, the point is in the polygon\n",
    "        for xi in xint_list:\n",
    "            if xi == ptlon:\n",
    "                # On the segment\n",
    "                return True\n",
    "            if xi < ptlon:\n",
    "                lessthan_lon += 1\n",
    "        return (lessthan_lon % 2) == 1\n",
    "\n",
    "def x_intercept(ptlat, ptlon, seg_ends):\n",
    "    # Return the x-coordinate of the segment defined by seg_ends that has a y-coordinate of ptlat\n",
    "    if seg_ends[0][0] == seg_ends[1][0]:\n",
    "        if ptlat == seg_ends[0][0]:\n",
    "            if between(ptlon, seg_ends[0][1], seg_ends[1][1]):\n",
    "                return ptlon\n",
    "            else:\n",
    "                return Null\n",
    "        else:\n",
    "            return Null\n",
    "    if seg_ends[0][1] == seg_ends[1][1]:\n",
    "        return seg_ends[0][1]\n",
    "    y_frac = (ptlat - seg_ends[0][0]) / (seg_ends[1][1] - seg_ends[0][1])\n",
    "    x_int = seg_ends[0][1] + y_frac * (seg_ends[1][1] - seg_ends[0][1])\n",
    "    return x_int\n",
    "\n",
    "def between (compare, st, en):\n",
    "    if st < compare and compare < en:\n",
    "        return True\n",
    "    if en < compare and compare < st:\n",
    "        return True\n",
    "    return False"
   ]
  },
  {
   "cell_type": "code",
   "execution_count": 4,
   "metadata": {
    "collapsed": false
   },
   "outputs": [
    {
     "name": "stdout",
     "output_type": "stream",
     "text": [
      "Checking presence of 201501-citibike-tripdata.zip\n",
      "/wingrdp/homedirs/ss4977/PUI2016_ss4977/HW5_ss4977\n",
      "Already have the file\n",
      "Checking presence of 201502-citibike-tripdata.zip\n",
      "/wingrdp/homedirs/ss4977/PUI2016_ss4977/HW5_ss4977\n",
      "Already have the file\n",
      "Checking presence of 201503-citibike-tripdata.zip\n",
      "/wingrdp/homedirs/ss4977/PUI2016_ss4977/HW5_ss4977\n",
      "Already have the file\n",
      "Checking presence of 201504-citibike-tripdata.zip\n",
      "/wingrdp/homedirs/ss4977/PUI2016_ss4977/HW5_ss4977\n",
      "Already have the file\n",
      "Checking presence of 201505-citibike-tripdata.zip\n",
      "/wingrdp/homedirs/ss4977/PUI2016_ss4977/HW5_ss4977\n",
      "Already have the file\n",
      "Checking presence of 201506-citibike-tripdata.zip\n",
      "/wingrdp/homedirs/ss4977/PUI2016_ss4977/HW5_ss4977\n",
      "Already have the file\n",
      "Checking presence of 201507-citibike-tripdata.zip\n",
      "/wingrdp/homedirs/ss4977/PUI2016_ss4977/HW5_ss4977\n",
      "Already have the file\n",
      "Checking presence of 201508-citibike-tripdata.zip\n",
      "/wingrdp/homedirs/ss4977/PUI2016_ss4977/HW5_ss4977\n",
      "Already have the file\n",
      "Checking presence of 201509-citibike-tripdata.zip\n",
      "/wingrdp/homedirs/ss4977/PUI2016_ss4977/HW5_ss4977\n",
      "Already have the file\n",
      "Checking presence of 201510-citibike-tripdata.zip\n",
      "/wingrdp/homedirs/ss4977/PUI2016_ss4977/HW5_ss4977\n",
      "Already have the file\n",
      "Checking presence of 201511-citibike-tripdata.zip\n",
      "/wingrdp/homedirs/ss4977/PUI2016_ss4977/HW5_ss4977\n",
      "Already have the file\n",
      "Checking presence of 201512-citibike-tripdata.zip\n",
      "/wingrdp/homedirs/ss4977/PUI2016_ss4977/HW5_ss4977\n",
      "Already have the file\n"
     ]
    },
    {
     "data": {
      "text/plain": [
       "(8626638, 5)"
      ]
     },
     "execution_count": 4,
     "metadata": {},
     "output_type": "execute_result"
    }
   ],
   "source": [
    "sitename = \"http://s3.amazonaws.com/tripdata\"\n",
    "puidata = os.getenv(\"PUIDATA\")\n",
    "initmon = \"201501\"\n",
    "getBikeDataCSV(initmon)\n",
    "df = pd.read_csv(puidata + \"/\" + initmon + \"-citibike-tripdata.csv\")\n",
    "csvcols = df.keys()\n",
    "# All columns not in this list have no value in this assignment\n",
    "holdcols = [\"start station id\", \"start station name\", \"start station latittude\",\n",
    "            \"start station longitude\", \"birth year\", \"usertype\"]\n",
    "# Thus everything else can be dropped\n",
    "dropcols = []\n",
    "for col in csvcols:\n",
    "    if not col in holdcols: dropcols.append(col)\n",
    "df.drop(dropcols, axis=1, inplace=True)\n",
    "df = df[df[\"usertype\"] == \"Subscriber\"]\n",
    "for appmon in range(2,13):\n",
    "    append_file = \"2015{:02d}\".format(appmon)\n",
    "    getBikeDataCSV(append_file)\n",
    "    appdf = pd.read_csv(puidata + \"/\" + append_file + \"-citibike-tripdata.csv\")\n",
    "    # Drop the columns that aren't of interest\n",
    "    appdf.drop(dropcols, axis=1, inplace=True)\n",
    "    # Remove rows that don't provide birth year\n",
    "    appdf = appdf[appdf[\"usertype\"] == 'Subscriber']\n",
    "    df = df.append(appdf, ignore_index=True)\n",
    "df.shape"
   ]
  },
  {
   "cell_type": "code",
   "execution_count": 5,
   "metadata": {
    "collapsed": false
   },
   "outputs": [
    {
     "data": {
      "text/plain": [
       "(8626638, 6)"
      ]
     },
     "execution_count": 5,
     "metadata": {},
     "output_type": "execute_result"
    }
   ],
   "source": [
    "df[\"age\"] = 2016 - df[\"birth year\"]\n",
    "df.shape"
   ]
  },
  {
   "cell_type": "code",
   "execution_count": 6,
   "metadata": {
    "collapsed": false
   },
   "outputs": [
    {
     "name": "stdout",
     "output_type": "stream",
     "text": [
      "39.4466903554\n",
      "133.823339893\n",
      "0.709454618038\n",
      "0.41305009734\n"
     ]
    }
   ],
   "source": [
    "# Provide some statistics about the age distribution\n",
    "# The third and fourth moments provide a quick indication about what type of distribution is present\n",
    "\n",
    "agemean = df.age.mean()\n",
    "agevar = df.age.var()\n",
    "ageskew = sps.skew(df.age, nan_policy='omit')\n",
    "agekurt = sps.kurtosis(df.age, fisher=True, nan_policy='omit')\n",
    "print(agemean)\n",
    "print(agevar)\n",
    "print(ageskew)\n",
    "print(agekurt)"
   ]
  },
  {
   "cell_type": "markdown",
   "metadata": {},
   "source": [
    "The skew of .709 is just under $\\sqrt{2}$ and the excess kurtosis is just under 1/2. Based on that, we will try a poisson distribution with $\\lambda=2$, adjusted to fit the mean and variance."
   ]
  },
  {
   "cell_type": "code",
   "execution_count": 7,
   "metadata": {
    "collapsed": false
   },
   "outputs": [
    {
     "data": {
      "text/plain": [
       "<matplotlib.text.Text at 0x7f06ef673210>"
      ]
     },
     "execution_count": 7,
     "metadata": {},
     "output_type": "execute_result"
    },
    {
     "data": {
      "image/png": "[encoded data removed]",
      "text/plain": [
       "<matplotlib.figure.Figure at 0x7f06f18f7b90>"
      ]
     },
     "metadata": {},
     "output_type": "display_data"
    }
   ],
   "source": [
    "# visualize the distribution\n",
    "\n",
    "bins = np.arange(10, 99, 4)\n",
    "agegrp = df.age.groupby(pd.cut(df.age, bins))\n",
    "ageagg = agegrp.agg([np.count_nonzero])\n",
    "ax = ageagg.plot(kind='bar', legend=False)\n",
    "ax.set_title('Riders')"
   ]
  },
  {
   "cell_type": "markdown",
   "metadata": {},
   "source": [
    "Bar chart showing age distribution of citibike rides."
   ]
  },
  {
   "cell_type": "code",
   "execution_count": 8,
   "metadata": {
    "collapsed": false
   },
   "outputs": [],
   "source": [
    "cumage = ageagg.cumsum()\n",
    "normage = cumage / cumage.max()"
   ]
  },
  {
   "cell_type": "code",
   "execution_count": 15,
   "metadata": {
    "collapsed": false
   },
   "outputs": [
    {
     "data": {
      "text/plain": [
       "<matplotlib.legend.Legend at 0x7f06ec69b450>"
      ]
     },
     "execution_count": 15,
     "metadata": {},
     "output_type": "execute_result"
    },
    {
     "data": {
      "image/png": "[encoded data removed]",
      "text/plain": [
       "<matplotlib.figure.Figure at 0x7f06eb746e90>"
      ]
     },
     "metadata": {},
     "output_type": "display_data"
    }
   ],
   "source": [
    "np.random.seed(1024)\n",
    "agevec = df.age\n",
    "agevec.dropna(inplace=True)\n",
    "gauss_dist = pd.Series(np.random.randn(agevec.count()) * np.sqrt(133) + 39)\n",
    "# The following produces a distribution with mean 39 and variance 133, like that of the age\n",
    "# distribution of riders, and the skew and kurtosis of Poisson(2)\n",
    "# pois_dist = pd.Series((np.random.poisson(2, agevec.count()) - 2) * np.sqrt(133) + 39)\n",
    "# Unfortunately, that creates an uneven distribution with large gaps. Will have to create\n",
    "# Poisson(39) instead\n",
    "pois_dist = pd.Series((np.random.poisson(39, agevec.count())))\n",
    "gauss_grp = gauss_dist.groupby(pd.cut(gauss_dist, bins))\n",
    "pois_grp = pois_dist.groupby(pd.cut(pois_dist, bins))\n",
    "gauss_agg = gauss_grp.agg([np.count_nonzero])\n",
    "pois_agg = pois_grp.agg([np.count_nonzero])\n",
    "gauss_cum = gauss_agg.cumsum()\n",
    "pois_cum = pois_agg.cumsum()\n",
    "gauss_norm = gauss_cum / gauss_cum.max()\n",
    "pois_norm = pois_cum / pois_cum.max()\n",
    "# Visualize the cdf's of the sample and simulated gaussian and poisson distributions\n",
    "pl.plot(bins[:-1] + 4, normage, label=\"Age dist.\", color=\"grey\")\n",
    "pl.plot(bins[:-1] + 4, gauss_norm, label=\"Gaussian\", color=\"orange\")\n",
    "pl.plot(bins[:-1] + 4, pois_norm, label=\"Poisson(39)\", color=\"green\")\n",
    "pl.xlabel(\"Age\")\n",
    "pl.ylabel(\"Normalized cumulative number\")\n",
    "pl.legend()"
   ]
  },
  {
   "cell_type": "markdown",
   "metadata": {},
   "source": [
    "Normalized cumulative distributions of the data and the normal and poisson distributions."
   ]
  },
  {
   "cell_type": "code",
   "execution_count": 16,
   "metadata": {
    "collapsed": false
   },
   "outputs": [
    {
     "name": "stdout",
     "output_type": "stream",
     "text": [
      "The statistics for gaussian are:\n",
      "By Kolmogorov-Smirnov: Ks_2sampResult(statistic=0.08859757000285276, pvalue=0.0)\n",
      "By Chi square: Power_divergenceResult(statistic=array([ 1261207.87358977]), pvalue=array([ 0.]))\n",
      "By Anderson-Darling: AndersonResult(statistic=117824.95259504393, critical_values=array([ 0.576,  0.656,  0.787,  0.918,  1.092]), significance_level=array([ 15. ,  10. ,   5. ,   2.5,   1. ]))\n",
      "\n",
      "The statistics for Poisson(2) are:\n",
      "By Kolmogorov-Smirnov: Ks_2sampResult(statistic=0.1929063288215067, pvalue=0.0)\n",
      "By Chi square: Power_divergenceResult(statistic=array([ inf]), pvalue=array([ 0.]))\n"
     ]
    }
   ],
   "source": [
    "agevec = df.age\n",
    "agevec.dropna(inplace=True)\n",
    "age2gauss_ks = sps.ks_2samp(agevec, gauss_dist)\n",
    "age2gauss_ch2 = sps.chisquare(f_obs=ageagg, f_exp=gauss_agg)\n",
    "age2gauss_ad = sps.anderson(agevec, dist='norm')\n",
    "print(\"The statistics for gaussian are:\")\n",
    "print(\"By Kolmogorov-Smirnov: \" + str(age2gauss_ks))\n",
    "print(\"By Chi square: \" + str(age2gauss_ch2))\n",
    "print(\"By Anderson-Darling: \" + str(age2gauss_ad))\n",
    "age2pois_ks = sps.ks_2samp(agevec, pois_dist)\n",
    "print(\"\\nThe statistics for Poisson(2) are:\")\n",
    "print(\"By Kolmogorov-Smirnov: \" + str(age2pois_ks))\n",
    "age2pois_ch2 = sps.chisquare(f_obs=ageagg, f_exp=pois_agg)\n",
    "print(\"By Chi square: \" + str(age2pois_ch2))\n",
    "try:\n",
    "    age2pois_ad = sps.anderson_ksamp([ageagg, pois_agg])\n",
    "    print(\"By Anderson-Darling: \" + str(age2pois_ad))\n",
    "except:\n",
    "    pass"
   ]
  },
  {
   "cell_type": "markdown",
   "metadata": {},
   "source": [
    "The null hypothesis can be rejected for both distributions. The p-value for the Kolmogorov-Smirnov and Chi square tests were too small to measure for both normal and poisson distribution. In addition, the Anderson-Darling score was orders of magnitude larger than the 1% significance level for the normal distribution."
   ]
  },
  {
   "cell_type": "code",
   "execution_count": null,
   "metadata": {
    "collapsed": true
   },
   "outputs": [],
   "source": []
  }
 ],
 "metadata": {
  "kernelspec": {
   "display_name": "PUI2016_Python2",
   "language": "python",
   "name": "pui2016_python2"
  },
  "language_info": {
   "codemirror_mode": {
    "name": "ipython",
    "version": 2
   },
   "file_extension": ".py",
   "mimetype": "text/x-python",
   "name": "python",
   "nbconvert_exporter": "python",
   "pygments_lexer": "ipython2",
   "version": "2.7.12"
  }
 },
 "nbformat": 4,
 "nbformat_minor": 0
}
