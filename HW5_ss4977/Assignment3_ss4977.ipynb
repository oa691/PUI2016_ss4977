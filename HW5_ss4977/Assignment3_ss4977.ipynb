{
 "cells": [
  {
   "cell_type": "markdown",
   "metadata": {},
   "source": [
    "## Null hypothesis\n",
    "\n",
    "Exercise contributes to at least as much weight loss as does dieting.\n",
    "\n",
    "Alternative hypothesis: Dieting causes more weight loss than exercise.\n",
    "\n",
    "$H_0: WL_E \\ge WL_D$\n",
    "\n",
    "$H_1: WL_E < WL_D$"
   ]
  },
  {
   "cell_type": "markdown",
   "metadata": {},
   "source": [
    "## Null hypothesis\n",
    "\n",
    "More Americans do not trust the president than do trust the president.\n",
    "\n",
    "Alternative hypothesis: More Americans trust the president than do not trust the president.\n",
    "\n",
    "$H_0: $ Non-Trust $>$ Trust\n",
    "\n",
    "$H_1: $ Trust $>$ Non-Trust"
   ]
  },
  {
   "cell_type": "markdown",
   "metadata": {},
   "source": [
    "## Null hypothesis\n",
    "\n",
    "Nicotine patches have no more effect on smoking cessation rates than does the control.\n",
    "\n",
    "Alternative hypothesis: using nicotine patches increase the rate of smoking cessation relative to the control.\n",
    "\n",
    "$H_0: QR_C \\ge QR_P$\n",
    "\n",
    "$H_1: QR_C < QR_P$"
   ]
  },
  {
   "cell_type": "markdown",
   "metadata": {},
   "source": [
    "## Null hypothesis\n",
    "\n",
    "The IQ of children whose mothers smoked while pregnant is at least as high as that of those whose mothers did not smoke.\n",
    "\n",
    "Alternative hypothesis: The IQ of children whose mothers smoked is lower than that of those who did not.\n",
    "\n",
    "$H_0: IQ_{MS} \\gt IQ_{MN}$\n",
    "\n",
    "$H_1: IQ_{MS} < IQ_{MN}$"
   ]
  }
 ],
 "metadata": {
  "kernelspec": {
   "display_name": "PUI2016_Python2",
   "language": "python",
   "name": "pui2016_python2"
  },
  "language_info": {
   "codemirror_mode": {
    "name": "ipython",
    "version": 2
   },
   "file_extension": ".py",
   "mimetype": "text/x-python",
   "name": "python",
   "nbconvert_exporter": "python",
   "pygments_lexer": "ipython2",
   "version": "2.7.12"
  }
 },
 "nbformat": 4,
 "nbformat_minor": 0
}
