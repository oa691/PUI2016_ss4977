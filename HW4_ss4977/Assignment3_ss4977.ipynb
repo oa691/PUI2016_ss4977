{
 "cells": [
  {
   "cell_type": "code",
   "execution_count": 1,
   "metadata": {
    "collapsed": false
   },
   "outputs": [
    {
     "name": "stdout",
     "output_type": "stream",
     "text": [
      "Populating the interactive namespace from numpy and matplotlib\n"
     ]
    }
   ],
   "source": [
    "from __future__ import print_function\n",
    "import os\n",
    "import sys\n",
    "import numpy as np\n",
    "import scipy.stats as sps\n",
    "import pylab as pl\n",
    "%pylab inline"
   ]
  },
  {
   "cell_type": "markdown",
   "metadata": {},
   "source": [
    "## NULL HYPOTHESIS: the % of former prisoners employed after release is the same or lower for candidates who participated in the program as for the control group, significance level $p=0.05$\n",
    "\n",
    "$H_0: P_0 - P_1 \\geq 0$\n",
    "\n",
    "$H_a: P_0 - P_1 < 0$\n",
    "\n",
    "$\\alpha = 0.05$\n",
    "\n",
    "this is a TEST OF PROPORTIONS. we use the Binomial distribution since it is a yes/no (bernulli) test for each subject: the former inmate was or was not ever employed in a CEO transitional job (second row in the table above):\n",
    "\n",
    "$P_0=0.035, P_1=0.701$"
   ]
  },
  {
   "cell_type": "code",
   "execution_count": 2,
   "metadata": {
    "collapsed": false
   },
   "outputs": [
    {
     "name": "stdout",
     "output_type": "stream",
     "text": [
      "we must assess the statistical significance\n"
     ]
    }
   ],
   "source": [
    "alpha = 0.05\n",
    "# we like fractions better then percentages. as a rule of thumb, either use fractions or counts\n",
    "P_0 = 3.5 * 0.01 \n",
    "P_1 = 70.1 * 0.01\n",
    "\n",
    "if P_0 - P_1 >= 0:\n",
    "    # we are done\n",
    "    print (\"the Null holds\")\n",
    "else:\n",
    "    print (\"we must assess the statistical significance\")\n",
    "\n",
    "n_0 = 409\n",
    "n_1 = 564\n",
    "\n",
    "#lets get the counts by multiplying by the sample size\n",
    "Nt_0 = P_0 * n_0\n",
    "Nt_1 = P_1 * n_1"
   ]
  },
  {
   "cell_type": "markdown",
   "metadata": {},
   "source": [
    "## 2 samples, categorical data\n",
    "\n",
    "## TWO OPTIONS z test, or chi-square test.\n",
    "\n",
    "## START WITH Z TEST\n",
    "\n",
    "## the z test compares the stanrard deviation of the expected distribution and the observed result. it tells you literally how many standard deviations from the tail an observation is, under the _assumption of normality\n",
    "\n",
    "must define the sample standard deviation"
   ]
  },
  {
   "cell_type": "code",
   "execution_count": 3,
   "metadata": {
    "collapsed": false
   },
   "outputs": [
    {
     "name": "stdout",
     "output_type": "stream",
     "text": [
      "0.421047276465\n"
     ]
    }
   ],
   "source": [
    "#define the sample proportion first\n",
    "sp = (P_0 * n_0 + P_1 * n_1) / (n_1 + n_0)\n",
    "print (sp)"
   ]
  },
  {
   "cell_type": "markdown",
   "metadata": {},
   "source": [
    "## standard deviation of the sampling distribution the distribution is Binomial, the binomail stdev is\n",
    "\n",
    "(see a proof here!: http://stats.stackexchange.com/questions/29641/standard-error-for-the-mean-of-a-sample-of-binomial-random-variables!):\n",
    "\n",
    "$\\sqrt{\\frac{p(1 - p)}{n}}$\n",
    "\n",
    "for 2 samples this becomes\n",
    "\n",
    "$\\sqrt{ \\frac{ \\hat{p}(1 - \\hat{p})} {n0} + \\frac{ \\hat{p}(1 - \\hat{p})} {n1} }$\n",
    "\n",
    "cfr: page 138 of Statistics in a Nutshell, eq. 5.12 and here http://stattrek.com/hypothesis-test/difference-in-proportions.aspx?Tutorial=AP\n",
    "\n",
    "$\\hat{p} =\\frac{p_0  n_0 + p_1  n_1}{n_0+n_1}$"
   ]
  },
  {
   "cell_type": "code",
   "execution_count": 4,
   "metadata": {
    "collapsed": true
   },
   "outputs": [],
   "source": [
    "# I am goonna create a little one line function to calculate the standard error\n",
    "# and to calculate p\n",
    "\n",
    "phat = lambda p0, p1, n0, n1: (p0 * n0 + p1 * n1) / (n0 + n1)\n",
    "#standard error\n",
    "serr = lambda p, n0, n1: np.sqrt(p * (1 - p) * (1.0 / n0 + 1.0 / n1)) "
   ]
  },
  {
   "cell_type": "markdown",
   "metadata": {},
   "source": [
    "## z score: how many standard deviation away from the population parameter is my statistic?\n",
    "\n",
    "$z=\\frac{P_1-P_0}{\\sigma}$"
   ]
  },
  {
   "cell_type": "code",
   "execution_count": 5,
   "metadata": {
    "collapsed": false
   },
   "outputs": [
    {
     "name": "stdout",
     "output_type": "stream",
     "text": [
      "20.7697865408\n"
     ]
    }
   ],
   "source": [
    "zscore = lambda p0, p1, s : (p0 - p1) / s\n",
    "z_2y = zscore(P_1, P_0, serr(phat(P_0, P_1, n_0, n_1), n_0, n_1))\n",
    "print (z_2y)"
   ]
  },
  {
   "cell_type": "markdown",
   "metadata": {},
   "source": [
    "note that using p0-p1 or p1-p0 at the numerator is equivalent because the standardizes normal value of z has mean 0 (see image below) so that we can use the absolute value of the z score, or equivalently look for $P[Z<z]$ if z is positive, and $P[Z>z]$ if z is negative.\n",
    "\n",
    "## if $p <\\alpha$ : reject H0\n",
    "\n",
    "## IMPORTANT!! note that this P in the bottom line of the table is not the p-value, but¶\n",
    "\n",
    "## p-value = 1-P"
   ]
  },
  {
   "cell_type": "code",
   "execution_count": 6,
   "metadata": {
    "collapsed": false
   },
   "outputs": [
    {
     "name": "stdout",
     "output_type": "stream",
     "text": [
      "is the p value 0.00 smaller than the critical value 0.05?\n",
      "YES!\n",
      "the Null hypothesis is rejected\n"
     ]
    }
   ],
   "source": [
    "## p-value for employment after 2 years: \n",
    "## since the largest number we read off the table for is (way) smaller \n",
    "## than the value for our statistic \n",
    "## our p-value will be smaller than it would be if calculated using \n",
    "## (e.g.) .9998 (and in fact using 1.0000 which is the largest number \n",
    "## in the table). Using 0.9998 is a **conservative** approach. \n",
    "\n",
    "p_2y = 1 - sps.norm.cdf(z_2y)\n",
    "\n",
    "def report_result(p,a):\n",
    "    print ('is the p value ' + \n",
    "           '{0:.2f} smaller than the critical value {1:.2f}?'.format(p,a))\n",
    "    if p < a:\n",
    "        print (\"YES!\")\n",
    "    else: \n",
    "        print (\"NO!\")\n",
    "    \n",
    "    print ('the Null hypothesis is {}'.format(\\\n",
    "                            'rejected' if p < a  else 'not rejected') )\n",
    "\n",
    "    \n",
    "report_result(p_2y, alpha)"
   ]
  },
  {
   "cell_type": "markdown",
   "metadata": {},
   "source": [
    "what if we used the values for where the former inmate was or was not \"Convicted of a felony\" (row 10) in the Recidivism (Years 1-3)?\n",
    "\n",
    "## Null hypothesis\n",
    "\n",
    "The percentage of participants in the Center for Employment Opportunities convicted of a felony after 3 years is at least as large as the percentage of that for non-participants.\n",
    "\n",
    "$H_0: FC_1 \\geq FC_0$\n",
    "\n",
    "$H_a: FC_1 < FC_0$\n",
    "\n",
    "$P_0 = 0.10, P_1= 0.117$\n",
    "\n",
    "look up data table and insert the appropriate values to get the appropriate result! you can use the functions I defined above, with different arguments.\n",
    "\n",
    "Now lets do it with the $\\chi^2$ test\n",
    "this analysis can also be done with the $\\chi^2$ test, and the  $\\chi^2$ distribution,\n",
    "\n",
    "The chisq statistics tests the statistics calculated as :\n",
    "\n",
    "$\\chi^2 = \\sum_{i} \\frac{(observation_i - expectation_i)^2}{expectation_i}$\n",
    "\n",
    "against a chi sq distribution.\n",
    "\n",
    "If we talk about sample fractions that is\n",
    "\n",
    "$\\chi^2 = \\sum_i \\frac{(f_{i,observed} - f_{i,expectated})^2}{f_{i,expected}}$\n",
    "\n",
    "Where i indicates the sum over each cell.\n",
    "\n",
    "turns out this quantity is distributed according to a chi square distribution, so if i get the \n",
    "\n",
    "$\\chi^2$ statistics i can compare it to the full chisq distribution and see how far in the tail it is"
   ]
  },
  {
   "cell_type": "markdown",
   "metadata": {},
   "source": [
    "let's see what the chi sq statistics says about the conviction for felonies (row 10)\n",
    "\n",
    "<table><tr><td>convicted of a felony</td><td>yes</td><td>no</td><td></td></tr>\n",
    "<tr><td>test sample</td><td>0.1 $\\times$ 568</td><td>0.9 $\\times$ 568</td><td>586</td></tr>\n",
    "<tr><td>control sample</td><td>0.117 $\\times$ 409</td><td>0.883 $\\times$ 409</td><td>409</td></tr>\n",
    "<tr><td>total</td><td>104.653</td><td>872.347</td><td>977</td></tr></table>"
   ]
  },
  {
   "cell_type": "code",
   "execution_count": 7,
   "metadata": {
    "collapsed": false
   },
   "outputs": [
    {
     "name": "stdout",
     "output_type": "stream",
     "text": [
      "0.641531231785\n"
     ]
    }
   ],
   "source": [
    "FC_1 = 0.1\n",
    "FC_0 = 0.117\n",
    "rs_1 = 568\n",
    "rs_0 = 409\n",
    "FChat = phat(FC_0, FC_1, rs_0, rs_1)\n",
    "\n",
    "def chisq_sum(ex_avg, sample):\n",
    "    sum_devs = 0\n",
    "    for i in range(0, len(sample)):\n",
    "        expect = sample[i][1] * ex_avg\n",
    "        obs = sample[i][0] * sample[i][1]\n",
    "        sum_devs += (expect - obs) ** 2 / expect\n",
    "    return sum_devs\n",
    "\n",
    "fel_result = chisq_sum(FChat, np.array([[FC_1, rs_1], [FC_0, rs_0]]))\n",
    "print(fel_result)"
   ]
  },
  {
   "cell_type": "code",
   "execution_count": 8,
   "metadata": {
    "collapsed": false
   },
   "outputs": [
    {
     "name": "stdout",
     "output_type": "stream",
     "text": [
      "0.423156859321\n"
     ]
    }
   ],
   "source": [
    "print(1 - sps.chi2.cdf(fel_result, 1))"
   ]
  },
  {
   "cell_type": "markdown",
   "metadata": {},
   "source": [
    "$0.42>0.05$, therefore, the null hypothesis is not rejected by the $\\chi^2$ method.\n",
    "\n",
    "Now to try a $Z$-test."
   ]
  },
  {
   "cell_type": "code",
   "execution_count": 9,
   "metadata": {
    "collapsed": false
   },
   "outputs": [
    {
     "name": "stdout",
     "output_type": "stream",
     "text": [
      "is the p value 0.20 smaller than the critical value 0.05?\n",
      "NO!\n",
      "the Null hypothesis is not rejected\n"
     ]
    }
   ],
   "source": [
    "err_FC = serr(FChat, rs_0, rs_1)\n",
    "Z_FC = zscore(FC_0, FC_1, err_FC)\n",
    "p_FC = 1 - sps.norm.cdf(Z_FC)\n",
    "report_result(p_FC, alpha)"
   ]
  },
  {
   "cell_type": "markdown",
   "metadata": {},
   "source": [
    "Now to apply $\\chi^2$ to the employment cell.\n",
    "\n",
    "<table><tr><td>ever employed</td><td>yes</td><td>no</td><td></td></tr>\n",
    "<tr><td>test sample</td><td>0.701 $\\times$ 564</td><td>0.299 $\\times$ 564</td><td>584</td></tr>\n",
    "<tr><td>control sample</td><td>0.035 $\\times$ 409</td><td>0.965 $\\times$ 409</td><td>409</td></tr>\n",
    "<tr><td>total</td><td>406.679</td><td>563.321</td><td>973</td></tr></table>"
   ]
  },
  {
   "cell_type": "code",
   "execution_count": 10,
   "metadata": {
    "collapsed": false
   },
   "outputs": [
    {
     "data": {
      "text/plain": [
       "249.75096076684426"
      ]
     },
     "execution_count": 10,
     "metadata": {},
     "output_type": "execute_result"
    }
   ],
   "source": [
    "emp_result = chisq_sum(phat(P_0, P_1, n_0, n_1), np.array([[P_0, n_0], [P_1, n_1]]))\n",
    "emp_result"
   ]
  },
  {
   "cell_type": "code",
   "execution_count": 13,
   "metadata": {
    "collapsed": false
   },
   "outputs": [
    {
     "name": "stdout",
     "output_type": "stream",
     "text": [
      "0.0\n"
     ]
    }
   ],
   "source": [
    "emp_chi2_pval = 1 - sps.chi2.cdf(emp_result, 1)\n",
    "print(emp_chi2_pval)"
   ]
  },
  {
   "cell_type": "markdown",
   "metadata": {},
   "source": [
    "For the effect on employment, the $\\chi^2$ test also has a $p$-value less than threshold."
   ]
  },
  {
   "cell_type": "code",
   "execution_count": null,
   "metadata": {
    "collapsed": true
   },
   "outputs": [],
   "source": []
  }
 ],
 "metadata": {
  "kernelspec": {
   "display_name": "PUI2016_Python2",
   "language": "python",
   "name": "pui2016_python2"
  },
  "language_info": {
   "codemirror_mode": {
    "name": "ipython",
    "version": 2
   },
   "file_extension": ".py",
   "mimetype": "text/x-python",
   "name": "python",
   "nbconvert_exporter": "python",
   "pygments_lexer": "ipython2",
   "version": "2.7.12"
  }
 },
 "nbformat": 4,
 "nbformat_minor": 0
}
