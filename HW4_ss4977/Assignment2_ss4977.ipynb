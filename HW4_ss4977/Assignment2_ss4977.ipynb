{
 "cells": [
  {
   "cell_type": "markdown",
   "metadata": {},
   "source": [
    "|**Paper   |Statistical Analyses\t|IV(s)\t|IV type(s)\t|DV(s)\t|DV type(s)\t|Control Var\t|Control Var type\t|Question to be answered\t|H0\t|alpha\t|link to paper **\n",
    "|----------|:---------------------:|-------|-----------|-------|-----------|---------------|-------------------|---------------------------|:---:|:---:|----------------|\n",
    "|Awareness, Treatment, Control of Diabetes Mellitus and the Risk Factors: Survey Results from Northeast China | Logistic regression | 11, Gender, Age, Education, Income, Occupation, Family history, Region, BMI, Smoking status, Drinking status, Exercise | Categorical | 3, Awareness, Treatment, and Control of diabetes | dichotomous | none | What factors affect awareness and treatment of diabetes and the effectiveness of treatment when administered | Awareness and treatment of diabetes are uncorrelated with IVs used | 0.05 | http://journals.plos.org/plosone/article?id=10.1371/journal.pone.0103594 |"
   ]
  },
  {
   "cell_type": "code",
   "execution_count": null,
   "metadata": {
    "collapsed": true
   },
   "outputs": [],
   "source": []
  }
 ],
 "metadata": {
  "kernelspec": {
   "display_name": "PUI2016_Python2",
   "language": "python",
   "name": "pui2016_python2"
  },
  "language_info": {
   "codemirror_mode": {
    "name": "ipython",
    "version": 2
   },
   "file_extension": ".py",
   "mimetype": "text/x-python",
   "name": "python",
   "nbconvert_exporter": "python",
   "pygments_lexer": "ipython2",
   "version": "2.7.12"
  }
 },
 "nbformat": 4,
 "nbformat_minor": 0
}
