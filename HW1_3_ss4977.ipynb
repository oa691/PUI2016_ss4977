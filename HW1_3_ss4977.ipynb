{
 "cells": [
  {
   "cell_type": "code",
   "execution_count": 1,
   "metadata": {
    "collapsed": true
   },
   "outputs": [],
   "source": [
    "from __future__ import print_function\n",
    "__author__ = \"Federica B. Bianco, CUSP NYU 2016\""
   ]
  },
  {
   "cell_type": "markdown",
   "metadata": {},
   "source": [
    "# Create a <i>reproducible research</i> chunk of code\n",
    "\n",
    "That means we want the reader to be able to reproduce every step of the work we do. \n",
    "\n",
    "If our work includes the use of stochastic processes and random variables that gets tricky: how do we assure the random draw gives the same number to the user that it gave to me? That is not random! \n",
    "\n",
    "That becomes possible because computers are unable to poduce truly random numbers. When we ask a computer to generate a random number, it will in fact generate a \"pseudo random\" number. The number will be randon in the sanse that it will be some number between, for example, 0 and 1 if we ask for a **uniform random distribution** or a number near 0 if we aks for a **Gaussian distribution with mean 0**. <i> But the sequence of pseudo-random numbers that a compujter generates will depend on its **seed**: if you know the seed you know all the numbers that are \"randomely\" drawn</i>.  \n",
    "\n",
    "You can read more about pseudorandom number generation in this wikipedia article https://en.wikipedia.org/wiki/Pseudorandom_number_generator\n",
    "\n",
    "Fill in the empty cells below with code, as directed."
   ]
  },
  {
   "cell_type": "code",
   "execution_count": 2,
   "metadata": {
    "collapsed": false
   },
   "outputs": [],
   "source": [
    "import os\n",
    "import sys\n",
    "\n",
    "# you can use the numpy library for random number generation: \n",
    "# http://docs.scipy.org/doc/numpy/reference/routines.random.html\n",
    "\n",
    "import numpy as np"
   ]
  },
  {
   "cell_type": "markdown",
   "metadata": {},
   "source": [
    "## THIS IS THE MOST IMPORTANT PIECE OF THIS CODE! \n",
    "### give numpy as seed for this code to be reproducible \n",
    "(no points if this is wrong)\n",
    "\n",
    "http://docs.scipy.org/doc/numpy/reference/generated/numpy.random.seed.html"
   ]
  },
  {
   "cell_type": "code",
   "execution_count": 3,
   "metadata": {
    "collapsed": false
   },
   "outputs": [],
   "source": [
    "np.random.seed(314159654)"
   ]
  },
  {
   "cell_type": "markdown",
   "metadata": {},
   "source": [
    "### 1. Generate random distributions. use the function \n",
    "http://docs.scipy.org/doc/numpy/reference/generated/numpy.random.randn.html\n",
    "### to generate 100 2-dimensional random datapoints in a gaussian distribution \n",
    "\n",
    "call the array ReprRand\n"
   ]
  },
  {
   "cell_type": "code",
   "execution_count": 4,
   "metadata": {
    "collapsed": true
   },
   "outputs": [],
   "source": [
    "ReprRand = np.random.randn(2, 100)"
   ]
  },
  {
   "cell_type": "markdown",
   "metadata": {},
   "source": [
    "#### if you did this correctly the shape of ReprRand will be (2, 100)\n"
   ]
  },
  {
   "cell_type": "code",
   "execution_count": 5,
   "metadata": {
    "collapsed": false
   },
   "outputs": [
    {
     "data": {
      "text/plain": [
       "(2, 100)"
      ]
     },
     "execution_count": 5,
     "metadata": {},
     "output_type": "execute_result"
    }
   ],
   "source": [
    "# run this cell\n",
    "ReprRand.shape"
   ]
  },
  {
   "cell_type": "markdown",
   "metadata": {},
   "source": [
    "## 2. use the same function to generate 50 more random 2x100 numpy arrays and store them in ReprRandAll, all with different mean.\n",
    "\n",
    "np.random.randn creates a distribution with mean 0 and standard deviation 1 by default.\n",
    "\n",
    "To obtain a gaussian distribution with a mean different than 1 using np.random.randn you must add your new mean (it is explained in the dunction documentation for which I already gave you the link)\n",
    "\n",
    "If you want to change the standard deviation (sigma) as well you multiply the distribution by the new sigma.\n",
    "\n",
    "You can do it in a for loop. The first line of code I included generates an array of zeros that you can fill in with your new numbers. \n",
    "\n",
    "\n"
   ]
  },
  {
   "cell_type": "code",
   "execution_count": 6,
   "metadata": {
    "collapsed": false
   },
   "outputs": [],
   "source": [
    "ReprRandAll = np.zeros((50, 2, 100))\n",
    "for i in range(50):\n",
    "    mu = i % 5\n",
    "    sigma = (60 - i) / 5\n",
    "    for j in range(2):\n",
    "        ReprRandAll[i][j] = sigma * np.random.randn() + mu"
   ]
  },
  {
   "cell_type": "code",
   "execution_count": 7,
   "metadata": {
    "collapsed": false
   },
   "outputs": [
    {
     "data": {
      "text/plain": [
       "(50, 2, 100)"
      ]
     },
     "execution_count": 7,
     "metadata": {},
     "output_type": "execute_result"
    }
   ],
   "source": [
    "# run this cell\n",
    "ReprRandAll.shape"
   ]
  },
  {
   "cell_type": "markdown",
   "metadata": {},
   "source": [
    "## 3. now plot them: \n",
    "\n",
    "you can use the matplotlib library, and the function scatter(), but that would plot everything in the same color unless you ask it not to. For convenience, let's use the function plot() which by default plots lines, and tell it to plot points (in addition plot is actually more efficient, so if you have a large dataset you may want to consider using plot with points for it anyways)\n",
    "\n",
    "https://scipy-lectures.github.io/intro/matplotlib/matplotlib.html#scatter-plots\n",
    "\n",
    "http://matplotlib.org/users/pyplot_tutorial.html\n"
   ]
  },
  {
   "cell_type": "code",
   "execution_count": 8,
   "metadata": {
    "collapsed": false
   },
   "outputs": [
    {
     "name": "stdout",
     "output_type": "stream",
     "text": [
      "Populating the interactive namespace from numpy and matplotlib\n"
     ]
    },
    {
     "data": {
      "image/png": "[encoded data removed]",
      "text/plain": [
       "<matplotlib.figure.Figure at 0x7f019cece750>"
      ]
     },
     "metadata": {},
     "output_type": "display_data"
    }
   ],
   "source": [
    "import pylab as pl\n",
    "%pylab inline\n",
    "# the last line of code makes the plot show up within the notebook. \n",
    "# Always include it so that your homework notebooks are rendered and we can see\n",
    "# what you wanted your results to be. \n",
    "\n",
    "# code here\n",
    "for arrGroup in range(10):\n",
    "    pl.plot(ReprRandAll[arrGroup][0], ReprRandAll[arrGroup][1], \"b.\")\n",
    "    pl.plot(ReprRandAll[arrGroup + 1][0], ReprRandAll[arrGroup + 1][1], \"g.\")\n",
    "    pl.plot(ReprRandAll[arrGroup + 2][0], ReprRandAll[arrGroup + 2][1], \"r.\")\n",
    "    pl.plot(ReprRandAll[arrGroup + 3][0], ReprRandAll[arrGroup + 3][1], \"c.\")\n",
    "    pl.plot(ReprRandAll[arrGroup + 4][0], ReprRandAll[arrGroup + 4][1], \"m.\")"
   ]
  },
  {
   "cell_type": "markdown",
   "metadata": {},
   "source": [
    "Always add a caption to each of your homework figures. \n",
    "And remember to give your labels some names! \n",
    "This is a general rule. Without the caption or axis labels this portion of the HW will not get points. Make sure the font in the labels is large enough to be readable.  \n",
    "\n",
    "## Figure 1: \n",
    "\n",
    "Scatter plot of 50 different sets of normal distributions. Blue has mean 0, Green mean 1, Red mean 2, Cyan mean 3, Magenta mean 4."
   ]
  },
  {
   "cell_type": "markdown",
   "metadata": {},
   "source": [
    "## Challenge\n",
    "\n",
    "It is easier to give the same mean and standard deviation to each dimension. Can you give two different values for the mean along the x- and the mean along the y- axis for each of the 50 distributions if you have not done so? If you are an experienced coder, can you do it in a single line?\n",
    "\n",
    "\n"
   ]
  },
  {
   "cell_type": "code",
   "execution_count": 9,
   "metadata": {
    "collapsed": true
   },
   "outputs": [],
   "source": [
    "# code here...\n",
    "ReprRandMix = (10 * np.random.randn(100) + 10, 2.5 * np.random.randn(100) + 2)"
   ]
  },
  {
   "cell_type": "code",
   "execution_count": 10,
   "metadata": {
    "collapsed": false
   },
   "outputs": [
    {
     "data": {
      "text/plain": [
       "[<matplotlib.lines.Line2D at 0x7f01980092d0>]"
      ]
     },
     "execution_count": 10,
     "metadata": {},
     "output_type": "execute_result"
    },
    {
     "data": {
      "image/png": "[encoded data removed]",
      "text/plain": [
       "<matplotlib.figure.Figure at 0x7f026559c410>"
      ]
     },
     "metadata": {},
     "output_type": "display_data"
    }
   ],
   "source": [
    "# plot here...\n",
    "pl.plot(ReprRandMix[0], ReprRandMix[1], \"g.\")"
   ]
  },
  {
   "cell_type": "markdown",
   "metadata": {
    "collapsed": true
   },
   "source": [
    "# Figure 2\n",
    "\n",
    "Scatter plot of x-coordinates centered on 10 and y-coordinates centered on 2."
   ]
  },
  {
   "cell_type": "code",
   "execution_count": null,
   "metadata": {
    "collapsed": true
   },
   "outputs": [],
   "source": []
  }
 ],
 "metadata": {
  "anaconda-cloud": {},
  "kernelspec": {
   "display_name": "Python 2",
   "language": "python",
   "name": "python2"
  },
  "language_info": {
   "codemirror_mode": {
    "name": "ipython",
    "version": 2
   },
   "file_extension": ".py",
   "mimetype": "text/x-python",
   "name": "python",
   "nbconvert_exporter": "python",
   "pygments_lexer": "ipython2",
   "version": "2.7.11"
  }
 },
 "nbformat": 4,
 "nbformat_minor": 0
}
