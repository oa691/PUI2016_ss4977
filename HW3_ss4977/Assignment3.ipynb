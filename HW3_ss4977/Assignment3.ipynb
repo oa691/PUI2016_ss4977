{
 "cells": [
  {
   "cell_type": "markdown",
   "metadata": {
    "collapsed": true
   },
   "source": [
    "$H_0$: Travel time is the same or longer with the new bus line as it was before the new line.\n",
    "\n",
    "$H_{\\rm Alt}$: Travel time is shorter with the new bus line than it was before to a certainty of $p < 0.05$.\n",
    "\n",
    "Based on prior information, average travel before the new bus line was 36 minutes with a standard deviation of 6. 100 measurements on the new line were taken. The standard deviation of the mean from that sample is the population standard deviation for individual measurements divided by the square root of the sample size. This would be $6/\\sqrt{100}$ or $6/10$ or 0.6."
   ]
  },
  {
   "cell_type": "code",
   "execution_count": 3,
   "metadata": {
    "collapsed": false
   },
   "outputs": [
    {
     "name": "stdout",
     "output_type": "stream",
     "text": [
      "-2.55639718617\n"
     ]
    }
   ],
   "source": [
    "from __future__ import print_function\n",
    "\n",
    "import numpy as np\n",
    "import pandas as pd\n",
    "import os\n",
    "\n",
    "puidir = os.getenv(\"PUI2016\")\n",
    "hdir = puidir + \"/HW3_ss4977\"\n",
    "infile = hdir + \"/times.txt\"\n",
    "df = pd.read_csv(infile)\n",
    "ser = df[\"Travel Time\"]\n",
    "stdpop = 6\n",
    "sampstd = stdpop / 100**.5\n",
    "ztest = (ser.mean() - 36) / sampstd\n",
    "print (ztest)\n"
   ]
  },
  {
   "cell_type": "markdown",
   "metadata": {
    "collapsed": true
   },
   "source": [
    "The sample average travel time on the new bus route is 2.56 standard deviations below the average for the previous route. The $Z$-score with a $p$-value of 0.05 is just under 2, therefore, the null hypothesis is rejected with $p < 0.05$.\n"
   ]
  },
  {
   "cell_type": "code",
   "execution_count": null,
   "metadata": {
    "collapsed": true
   },
   "outputs": [],
   "source": []
  }
 ],
 "metadata": {
  "kernelspec": {
   "display_name": "PUI2016_Python2",
   "language": "python",
   "name": "pui2016_python2"
  },
  "language_info": {
   "codemirror_mode": {
    "name": "ipython",
    "version": 2
   },
   "file_extension": ".py",
   "mimetype": "text/x-python",
   "name": "python",
   "nbconvert_exporter": "python",
   "pygments_lexer": "ipython2",
   "version": "2.7.12"
  }
 },
 "nbformat": 4,
 "nbformat_minor": 0
}
