{
 "cells": [
  {
   "cell_type": "code",
   "execution_count": 31,
   "metadata": {
    "collapsed": false
   },
   "outputs": [
    {
     "data": {
      "text/html": [
       "<div>\n",
       "<table border=\"1\" class=\"dataframe\">\n",
       "  <thead>\n",
       "    <tr style=\"text-align: right;\">\n",
       "      <th></th>\n",
       "      <th>Total</th>\n",
       "      <th>Pct Hisp</th>\n",
       "      <th>Pct Citizen</th>\n",
       "    </tr>\n",
       "  </thead>\n",
       "  <tbody>\n",
       "    <tr>\n",
       "      <th>0</th>\n",
       "      <td>44</td>\n",
       "      <td>0.36</td>\n",
       "      <td>0.95</td>\n",
       "    </tr>\n",
       "    <tr>\n",
       "      <th>1</th>\n",
       "      <td>35</td>\n",
       "      <td>0.03</td>\n",
       "      <td>0.94</td>\n",
       "    </tr>\n",
       "    <tr>\n",
       "      <th>5</th>\n",
       "      <td>6</td>\n",
       "      <td>0.33</td>\n",
       "      <td>1.00</td>\n",
       "    </tr>\n",
       "    <tr>\n",
       "      <th>9</th>\n",
       "      <td>3</td>\n",
       "      <td>0.33</td>\n",
       "      <td>1.00</td>\n",
       "    </tr>\n",
       "    <tr>\n",
       "      <th>11</th>\n",
       "      <td>8</td>\n",
       "      <td>0.00</td>\n",
       "      <td>1.00</td>\n",
       "    </tr>\n",
       "    <tr>\n",
       "      <th>13</th>\n",
       "      <td>17</td>\n",
       "      <td>0.53</td>\n",
       "      <td>1.00</td>\n",
       "    </tr>\n",
       "    <tr>\n",
       "      <th>15</th>\n",
       "      <td>3</td>\n",
       "      <td>0.00</td>\n",
       "      <td>0.67</td>\n",
       "    </tr>\n",
       "    <tr>\n",
       "      <th>20</th>\n",
       "      <td>7</td>\n",
       "      <td>0.43</td>\n",
       "      <td>1.00</td>\n",
       "    </tr>\n",
       "    <tr>\n",
       "      <th>21</th>\n",
       "      <td>4</td>\n",
       "      <td>0.00</td>\n",
       "      <td>1.00</td>\n",
       "    </tr>\n",
       "    <tr>\n",
       "      <th>22</th>\n",
       "      <td>27</td>\n",
       "      <td>0.56</td>\n",
       "      <td>0.89</td>\n",
       "    </tr>\n",
       "  </tbody>\n",
       "</table>\n",
       "</div>"
      ],
      "text/plain": [
       "    Total  Pct Hisp  Pct Citizen\n",
       "0      44      0.36         0.95\n",
       "1      35      0.03         0.94\n",
       "5       6      0.33         1.00\n",
       "9       3      0.33         1.00\n",
       "11      8      0.00         1.00\n",
       "13     17      0.53         1.00\n",
       "15      3      0.00         0.67\n",
       "20      7      0.43         1.00\n",
       "21      4      0.00         1.00\n",
       "22     27      0.56         0.89"
      ]
     },
     "execution_count": 31,
     "metadata": {},
     "output_type": "execute_result"
    }
   ],
   "source": [
    "from __future__ import print_function\n",
    "import os\n",
    "import sys\n",
    "import numpy as np\n",
    "import pandas as pd\n",
    "from pandas import Series, DataFrame\n",
    "\n",
    "dfdata = os.getenv(\"DFDATA\")\n",
    "puiData = os.getenv(\"PUIDATA\")\n",
    "# Directory for demographic statics data\n",
    "datdir = dfdata + \"/kku6-nxdu/1414245945\"\n",
    "datfile = datdir + \"/kku6-nxdu\"\n",
    "\"\"\"\n",
    "Notebook will be using the following columns from demographic statistics file\n",
    "13: Percent Hispanic/Latino\n",
    "31: Percent US Citizen\n",
    "\n",
    "In addition, the field \"Count Participants\" is used to weight the rows, identified as\n",
    "1: Total\n",
    "\"\"\"\n",
    "df = pd.read_csv(datfile, usecols = [1, 13, 31], skiprows=1,\n",
    "                 names = [\"Total\", \"Pct Hisp\", \"Pct Citizen\"],\n",
    "                dtype = {\"Total\" : np.int, \"Pct Hisp\" : np.float, \"Pct Citizen\" : np.float})\n",
    "subdf = df.loc[df[\"Total\"] > 2]\n",
    "selection = subdf.head(10)\n",
    "selection"
   ]
  },
  {
   "cell_type": "code",
   "execution_count": 85,
   "metadata": {
    "collapsed": false
   },
   "outputs": [
    {
     "data": {
      "text/plain": [
       "array([ 0.98450504, -0.10657987])"
      ]
     },
     "execution_count": 85,
     "metadata": {},
     "output_type": "execute_result"
    }
   ],
   "source": [
    "#import statsmodels.api as sma\n",
    "#import statsmodels.regression.linear_model as slm\n",
    "\n",
    "#gls_mod = slm.GLS(subdf[\"Pct Citizen\"], subdf[\"Pct Hisp\"], np.diagonal(subdf[\"Total\"]))\n",
    "from numpy.linalg import inv\n",
    "numrows = subdf.shape\n",
    "numrows = numrows[0]\n",
    "onevec = np.ones(subdf.shape[0], float)\n",
    "depvar = np.array(subdf[\"Pct Citizen\"])\n",
    "depvarT = np.transpose(depvar)\n",
    "indvar = np.array(subdf[\"Pct Hisp\"])\n",
    "indvarmat = np.column_stack((onevec, indvar))\n",
    "indvarT = np.transpose(indvarmat)\n",
    "omegamat = np.diag(subdf[\"Total\"])\n",
    "omega_dep = np.dot(omegamat, depvar)\n",
    "omega_ind = np.dot(omegamat, indvarmat)\n",
    "omega_indT = np.transpose(omega_ind)\n",
    "ind2 = np.dot(indvarT, omega_ind)\n",
    "depind = np.dot(indvarT, omega_dep)\n",
    "betahat = np.dot(inv(ind2), depind)\n",
    "betahat"
   ]
  },
  {
   "cell_type": "code",
   "execution_count": 87,
   "metadata": {
    "collapsed": false
   },
   "outputs": [
    {
     "name": "stdout",
     "output_type": "stream",
     "text": [
      "Populating the interactive namespace from numpy and matplotlib\n"
     ]
    },
    {
     "data": {
      "text/plain": [
       "[<matplotlib.lines.Line2D at 0x7f166830a6d0>]"
      ]
     },
     "execution_count": 87,
     "metadata": {},
     "output_type": "execute_result"
    },
    {
     "data": {
      "image/png": "[encoded data removed]",
      "text/plain": [
       "<matplotlib.figure.Figure at 0x7f16686c38d0>"
      ]
     },
     "metadata": {},
     "output_type": "display_data"
    }
   ],
   "source": [
    "import pylab as pl\n",
    "%pylab inline\n",
    "fig = pl.figure(figsize=(6, 6))\n",
    "pl.plot(subdf[\"Pct Hisp\"], subdf[\"Pct Citizen\"], \"b.\")\n",
    "pl.plot([0, 1], [betahat[0], betahat[0] + betahat[1]], \"r-\")"
   ]
  },
  {
   "cell_type": "markdown",
   "metadata": {},
   "source": [
    "# Figure 1\n",
    "\n",
    "Scatter plot of propotion of the population Hispanic/Latino (HISP) on the x-axis and the proportion of population US Citizens (CIT). The red line shows a weighted regression by the total number of respondents in each area, showing that CIT = 0.98 - 0.11 * HISP"
   ]
  },
  {
   "cell_type": "code",
   "execution_count": null,
   "metadata": {
    "collapsed": true
   },
   "outputs": [],
   "source": []
  }
 ],
 "metadata": {
  "kernelspec": {
   "display_name": "PUI2016_Python2",
   "language": "python",
   "name": "pui2016_python2"
  },
  "language_info": {
   "codemirror_mode": {
    "name": "ipython",
    "version": 2
   },
   "file_extension": ".py",
   "mimetype": "text/x-python",
   "name": "python",
   "nbconvert_exporter": "python",
   "pygments_lexer": "ipython2",
   "version": "2.7.12"
  }
 },
 "nbformat": 4,
 "nbformat_minor": 0
}
